{
 "cells": [
  {
   "cell_type": "code",
   "execution_count": 8,
   "metadata": {},
   "outputs": [
    {
     "name": "stdout",
     "output_type": "stream",
     "text": [
      "The midpoint is: ( 5.0 5.0 0.0 )\n",
      "mp length  7.0710678118654755\n",
      "New point on sphere is: ( 7.071067811865475 7.071067811865475 0.0 )\n",
      "sp length  10.0\n"
     ]
    }
   ],
   "source": [
    "class Point:\n",
    "    def __init__(self,x,y,z):\n",
    "        self.x = x\n",
    "        self.y = y\n",
    "        self.z = z\n",
    "\n",
    "p1 = Point(10.0,0.0,0.0) \n",
    "p2 = Point(0.0,10.0,0.0) \n",
    "import math\n",
    "# find midpoint between points\n",
    "midpoint = Point((p1.x+p2.x)/2,(p1.y+p2.y)/2,(p1.z+p2.z)/2)\n",
    "print(\"The midpoint is: (\", midpoint.x, midpoint.y, midpoint.z, \")\")\n",
    "# find the length of the midpoint vector (from the origin)\n",
    "len_mp = math.sqrt(midpoint.x**2 + midpoint.y**2 + midpoint.z**2)\n",
    "print(\"mp length \", len_mp)\n",
    "radius = 10.0\n",
    "ratio = radius / len_mp\n",
    "sp_point = Point(midpoint.x * ratio, midpoint.y * ratio, midpoint.z * ratio)\n",
    "print(\"New point on sphere is: (\", sp_point.x, sp_point.y, sp_point.z, \")\")\n",
    "len_sp = math.sqrt(sp_point.x**2 + sp_point.y**2 + sp_point.z**2)\n",
    "print(\"sp length \", len_sp)\n"
   ]
  }
 ],
 "metadata": {
  "kernelspec": {
   "display_name": "Python 3",
   "language": "python",
   "name": "python3"
  },
  "language_info": {
   "codemirror_mode": {
    "name": "ipython",
    "version": 3
   },
   "file_extension": ".py",
   "mimetype": "text/x-python",
   "name": "python",
   "nbconvert_exporter": "python",
   "pygments_lexer": "ipython3",
   "version": "3.10.11"
  }
 },
 "nbformat": 4,
 "nbformat_minor": 2
}
